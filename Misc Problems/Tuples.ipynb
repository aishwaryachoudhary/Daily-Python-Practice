{
 "cells": [
  {
   "cell_type": "markdown",
   "metadata": {},
   "source": [
    "##### # Creating a Tuple with the use of loop"
   ]
  },
  {
   "cell_type": "code",
   "execution_count": 2,
   "metadata": {},
   "outputs": [
    {
     "name": "stdout",
     "output_type": "stream",
     "text": [
      "\n",
      "Tuple with a loop\n",
      "((((('Geeks',),),),),)\n"
     ]
    }
   ],
   "source": [
    "Tuple1 = ('Geeks')\n",
    "n = 5\n",
    "print(\"\\nTuple with a loop\")\n",
    "for i in range(int(n)):\n",
    "    Tuple1 = (Tuple1,)\n",
    "print(Tuple1)"
   ]
  },
  {
   "cell_type": "markdown",
   "metadata": {},
   "source": [
    "##### Sort the list of tuples in increasing order by any key in tuple.\n",
    "###### * key represents index of tuples, key=0 means sort based on 0 index values of tuples in a list."
   ]
  },
  {
   "cell_type": "code",
   "execution_count": 7,
   "metadata": {},
   "outputs": [
    {
     "name": "stdout",
     "output_type": "stream",
     "text": [
      "[(1, 2), (2, 5), (2, 3), (4, 4)]\n"
     ]
    }
   ],
   "source": [
    "list1 = [(2, 5), (1, 2), (4, 4), (2, 3)] \n",
    "key = 0\n",
    "sorted_list = sorted(list1, key = lambda x: x[0])\n",
    "print(sorted_list)\n"
   ]
  },
  {
   "cell_type": "markdown",
   "metadata": {},
   "source": [
    "##### Remove empty tuples from a list"
   ]
  },
  {
   "cell_type": "code",
   "execution_count": 11,
   "metadata": {},
   "outputs": [],
   "source": [
    "list_of_tuples = [(), ('ram','15','8'), (), ('laxman', 'sita'), \n",
    "                  ('krishna', 'akbar', '45'), ('',''),()]"
   ]
  },
  {
   "cell_type": "markdown",
   "metadata": {},
   "source": [
    "###### Using filter()"
   ]
  },
  {
   "cell_type": "code",
   "execution_count": 12,
   "metadata": {},
   "outputs": [
    {
     "name": "stdout",
     "output_type": "stream",
     "text": [
      "[('ram', '15', '8'), ('laxman', 'sita'), ('krishna', 'akbar', '45'), ('', '')]\n"
     ]
    }
   ],
   "source": [
    "print(list(filter(lambda x: x, list_of_tuples)))"
   ]
  },
  {
   "cell_type": "code",
   "execution_count": 13,
   "metadata": {},
   "outputs": [
    {
     "name": "stdout",
     "output_type": "stream",
     "text": [
      "[('ram', '15', '8'), ('laxman', 'sita'), ('krishna', 'akbar', '45'), ('', '')]\n"
     ]
    }
   ],
   "source": [
    "# another way\n",
    "print(list(filter(None, list_of_tuples)))"
   ]
  },
  {
   "cell_type": "code",
   "execution_count": null,
   "metadata": {},
   "outputs": [],
   "source": [
    "# removing ('', '') as well\n",
    "print(list(filter(lambda x: x for x in list_of_tuples, list_of_tuples)))"
   ]
  }
 ],
 "metadata": {
  "kernelspec": {
   "display_name": "Python 3",
   "language": "python",
   "name": "python3"
  },
  "language_info": {
   "codemirror_mode": {
    "name": "ipython",
    "version": 3
   },
   "file_extension": ".py",
   "mimetype": "text/x-python",
   "name": "python",
   "nbconvert_exporter": "python",
   "pygments_lexer": "ipython3",
   "version": "3.9.6"
  }
 },
 "nbformat": 4,
 "nbformat_minor": 2
}
