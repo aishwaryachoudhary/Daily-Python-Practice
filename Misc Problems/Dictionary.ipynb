{
 "cells": [
  {
   "cell_type": "markdown",
   "metadata": {},
   "source": [
    "##### Write a function which takes an array and emits the majority element (if it exists), otherwise prints NONE as follows:\n",
    "###### A majority element in an array A[] of size n is an element that appears more than n/2 times (and hence there is at most one such element).\n",
    "\n"
   ]
  },
  {
   "cell_type": "code",
   "execution_count": 6,
   "metadata": {},
   "outputs": [
    {
     "name": "stdout",
     "output_type": "stream",
     "text": [
      "None\n"
     ]
    }
   ],
   "source": [
    "from collections import Counter\n",
    "\n",
    "def majority(arr):\n",
    "    \"\"\"Finds the element that appears more than n/2 times in the given array.\n",
    "\n",
    "    Args:\n",
    "        arr (list[int]): an array of integers\n",
    "\n",
    "    Returns:\n",
    "        int:  the element that appears more than n/2 times\n",
    "    \"\"\"\n",
    "    n_by_2 = len(arr)/2\n",
    "    repeat = Counter(arr)\n",
    "    val=[k for k,v in repeat.items() if v > n_by_2]\n",
    "    return val if val else 'None'\n",
    "      \n",
    "if __name__ == \"__main__\":\n",
    "    arr = [3,3,4,2,4,4,2,4,6] \n",
    "    print(majority(arr))"
   ]
  },
  {
   "cell_type": "markdown",
   "metadata": {},
   "source": [
    "##### Given three arrays sorted in non-decreasing order, print all common elements in these arrays.\n",
    "###### First instinct"
   ]
  },
  {
   "cell_type": "code",
   "execution_count": 7,
   "metadata": {},
   "outputs": [
    {
     "name": "stdout",
     "output_type": "stream",
     "text": [
      "[20, 80]\n"
     ]
    }
   ],
   "source": [
    "def common_elements(ar1, ar2, ar3):\n",
    "    \"\"\"Given three arrays sorted in non-decreasing order, print all common elements in these arrays.\n",
    "\n",
    "    Args:\n",
    "        ar1 (list[int]): Array of integers.\n",
    "        ar2 (list[int]): Array of integers.\n",
    "        ar3 (list[int]): Array of integers.\n",
    "\n",
    "    Returns:\n",
    "        list[int]: common elements in all 3 arrays.\n",
    "    \"\"\"\n",
    "    list1 = [i for i in ar1 if i in ar2]\n",
    "    list2 = [i for i in list1 if i in ar3]\n",
    "    return list2\n",
    "    \n",
    "\n",
    "if __name__ == '__main__':\n",
    "    ar1 = [1, 5, 10, 20, 40, 80]\n",
    "    ar2 = [6, 7, 20, 80, 100]\n",
    "    ar3 = [3, 4, 15, 20, 30, 70, 80, 120]\n",
    "    \n",
    "    print(common_elements(ar1, ar2, ar3))"
   ]
  },
  {
   "cell_type": "markdown",
   "metadata": {},
   "source": [
    "###### By Dictionary intersection"
   ]
  },
  {
   "cell_type": "code",
   "execution_count": null,
   "metadata": {},
   "outputs": [],
   "source": [
    "from collections import Counter\n",
    "\n",
    "def commonElement(ar1,ar2,ar3):\n",
    "     # first convert lists into dictionary\n",
    "     ar1 = Counter(ar1)\n",
    "     ar2 = Counter(ar2)\n",
    "     ar3 = Counter(ar3)\n",
    "   \n",
    "     # perform intersection operation\n",
    "     resultDict = dict(ar1.items() & ar2.items() & ar3.items())\n",
    "     common = []\n",
    "    \n",
    "     # iterate through resultant dictionary\n",
    "     # and collect common elements\n",
    "     for (key,val) in resultDict.items():\n",
    "          for i in range(0,val):\n",
    "               common.append(key)\n",
    "\n",
    "     print(common)\n",
    "\n",
    "# Driver program\n",
    "if __name__ == \"__main__\":\n",
    "    ar1 = [1, 5, 10, 20, 40, 80]\n",
    "    ar2 = [6, 7, 20, 80, 100]\n",
    "    ar3 = [3, 4, 15, 20, 30, 70, 80, 120]\n",
    "    commonElement(ar1,ar2,ar3)"
   ]
  },
  {
   "cell_type": "markdown",
   "metadata": {},
   "source": [
    "###### using set and &"
   ]
  },
  {
   "cell_type": "code",
   "execution_count": 8,
   "metadata": {},
   "outputs": [
    {
     "name": "stdout",
     "output_type": "stream",
     "text": [
      "[80, 20]\n"
     ]
    }
   ],
   "source": [
    "from collections import Counter\n",
    "\n",
    "def commonElement(ar1,ar2,ar3):\n",
    "     # perform intersection operation\n",
    "     result = list(set(ar1) & set(ar2) & set(ar3))\n",
    "     return result\n",
    "\n",
    "# Driver program\n",
    "if __name__ == \"__main__\":\n",
    "    ar1 = [1, 5, 10, 20, 40, 80]\n",
    "    ar2 = [6, 7, 20, 80, 100]\n",
    "    ar3 = [3, 4, 15, 20, 30, 70, 80, 120]\n",
    "    print(commonElement(ar1,ar2,ar3))"
   ]
  },
  {
   "cell_type": "markdown",
   "metadata": {},
   "source": []
  }
 ],
 "metadata": {
  "kernelspec": {
   "display_name": "base",
   "language": "python",
   "name": "python3"
  },
  "language_info": {
   "codemirror_mode": {
    "name": "ipython",
    "version": 3
   },
   "file_extension": ".py",
   "mimetype": "text/x-python",
   "name": "python",
   "nbconvert_exporter": "python",
   "pygments_lexer": "ipython3",
   "version": "3.11.5"
  }
 },
 "nbformat": 4,
 "nbformat_minor": 2
}
