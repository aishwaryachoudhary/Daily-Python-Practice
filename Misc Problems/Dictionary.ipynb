{
 "cells": [
  {
   "cell_type": "markdown",
   "metadata": {},
   "source": [
    "##### Write a function which takes an array and emits the majority element (if it exists), otherwise prints NONE as follows:\n",
    "###### A majority element in an array A[] of size n is an element that appears more than n/2 times (and hence there is at most one such element).\n",
    "\n"
   ]
  },
  {
   "cell_type": "code",
   "execution_count": 6,
   "metadata": {},
   "outputs": [
    {
     "name": "stdout",
     "output_type": "stream",
     "text": [
      "None\n"
     ]
    }
   ],
   "source": [
    "from collections import Counter\n",
    "\n",
    "def majority(arr):\n",
    "    \"\"\"Finds the element that appears more than n/2 times in the given array.\n",
    "\n",
    "    Args:\n",
    "        arr (list[int]): an array of integers\n",
    "\n",
    "    Returns:\n",
    "        int:  the element that appears more than n/2 times\n",
    "    \"\"\"\n",
    "    n_by_2 = len(arr)/2\n",
    "    repeat = Counter(arr)\n",
    "    val=[k for k,v in repeat.items() if v > n_by_2]\n",
    "    return val if val else 'None'\n",
    "      \n",
    "if __name__ == \"__main__\":\n",
    "    arr = [3,3,4,2,4,4,2,4,6] \n",
    "    print(majority(arr))"
   ]
  },
  {
   "cell_type": "markdown",
   "metadata": {},
   "source": []
  },
  {
   "cell_type": "markdown",
   "metadata": {},
   "source": []
  }
 ],
 "metadata": {
  "kernelspec": {
   "display_name": "base",
   "language": "python",
   "name": "python3"
  },
  "language_info": {
   "codemirror_mode": {
    "name": "ipython",
    "version": 3
   },
   "file_extension": ".py",
   "mimetype": "text/x-python",
   "name": "python",
   "nbconvert_exporter": "python",
   "pygments_lexer": "ipython3",
   "version": "3.11.5"
  }
 },
 "nbformat": 4,
 "nbformat_minor": 2
}
